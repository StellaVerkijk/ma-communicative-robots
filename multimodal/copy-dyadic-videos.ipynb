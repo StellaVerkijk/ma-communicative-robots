{
 "metadata": {
  "language_info": {
   "codemirror_mode": {
    "name": "ipython",
    "version": 3
   },
   "file_extension": ".py",
   "mimetype": "text/x-python",
   "name": "python",
   "nbconvert_exporter": "python",
   "pygments_lexer": "ipython3",
   "version": "3.7.9-final"
  },
  "orig_nbformat": 2,
  "kernelspec": {
   "name": "python37964bitdevpython378e162af75d134820b03d49898b79756f",
   "display_name": "Python 3.7.9 64-bit ('dev-python-3.7')"
  }
 },
 "nbformat": 4,
 "nbformat_minor": 2,
 "cells": [
  {
   "cell_type": "code",
   "execution_count": 2,
   "metadata": {
    "tags": []
   },
   "outputs": [
    {
     "output_type": "display_data",
     "data": {
      "text/plain": "HBox(children=(HTML(value=''), FloatProgress(value=0.0, max=3.0), HTML(value='')))",
      "application/vnd.jupyter.widget-view+json": {
       "version_major": 2,
       "version_minor": 0,
       "model_id": "53b40f2857b443a0a0d2d5f9bcd1c45f"
      }
     },
     "metadata": {}
    },
    {
     "output_type": "stream",
     "name": "stdout",
     "text": [
      "dyadic dataset has 99 utterances in train\ndyadic dataset has 81 utterances in dev\ndyadic dataset has 78 utterances in test\n\n"
     ]
    }
   ],
   "source": [
    "import json\n",
    "import os\n",
    "from shutil import copyfile, rmtree\n",
    "from glob import glob\n",
    "from tqdm.notebook import tqdm\n",
    "\n",
    "with open('vids-dyadic.json', 'r') as stream:\n",
    "    dyadic_dataset = json.load(stream) \n",
    "\n",
    "vid_path = {'train': \"/home/tk/datasets/MELD/MELD.Raw/train/train_splits\",\n",
    "            'dev': \"/home/tk/datasets/MELD/MELD.Raw/dev/dev_splits_complete\",\n",
    "            'test': \"/home/tk/datasets/MELD/MELD.Raw/test/output_repeated_splits_test\"}\n",
    "\n",
    "for key, dia_utt in tqdm(dyadic_dataset.items()):\n",
    "    viddir = os.path.join('dyadic-dataset', key)\n",
    "    rmtree(viddir, ignore_errors=True)\n",
    "    os.makedirs(viddir, exist_ok=True)\n",
    "\n",
    "    print(f\"dyadic dataset has {len(dia_utt)} utterances in {key}\")\n",
    "\n",
    "    src_ = [os.path.join(vid_path[key], du) for du in dia_utt ]\n",
    "    \n",
    "    for src in src_:\n",
    "        dst = dst = os.path.join(viddir, os.path.basename(src))\n",
    "        copyfile(src, dst)"
   ]
  }
 ]
}